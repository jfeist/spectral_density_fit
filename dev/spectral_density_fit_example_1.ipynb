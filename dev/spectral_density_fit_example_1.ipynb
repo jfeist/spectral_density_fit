{
  "cells": [
    {
      "cell_type": "code",
      "execution_count": null,
      "id": "25e5fe49-8bdb-43c9-bbf4-4036e0ab06ca",
      "metadata": {},
      "outputs": [],
      "source": [
        "%matplotlib inline\n",
        "import matplotlib.pyplot as plt\n",
        "import numpy as np\n",
        "import numericalunits as nu\n",
        "from scipy.signal import find_peaks\n",
        "from spectral_density_fit import spectral_density_fitter"
      ]
    },
    {
      "cell_type": "code",
      "execution_count": null,
      "id": "941e0e95",
      "metadata": {},
      "outputs": [],
      "source": [
        "plt.style.use(\"https://johannesfeist.eu/misc/jf_cb.mplstyle\")"
      ]
    },
    {
      "cell_type": "code",
      "execution_count": null,
      "id": "e1aebd4e-874e-45b7-8e66-d09684507aeb",
      "metadata": {},
      "outputs": [],
      "source": [
        "\"input should be in numericalunits units\"\n",
        "Jωprefac = lambda ω, μ: ω**2 * μ**2 / (np.pi * nu.hbar * nu.eps0 * nu.c0**2)\n",
        "\n",
        "\"input should be in numericalunits units\"\n",
        "\n",
        "\n",
        "def free_space_Jω(ħω, μ):\n",
        "    ω = ħω / nu.ħ\n",
        "    GF_imag = ω / (6 * np.pi * nu.c0)\n",
        "    pref = Jωprefac(ω, μ)\n",
        "    return pref * GF_imag"
      ]
    },
    {
      "cell_type": "markdown",
      "id": "570f4106-6ce7-4285-ae36-dc704d7937f5",
      "metadata": {},
      "source": [
        "# Load spectral density\n",
        "Note that we use a numerically calculated Purcell factor $P(\\omega)$ and calculate $J(\\omega) = J_0(\\omega) P(\\omega)$. We here use a dipole moment of 1 e nm. The spectral densities are in \"numericalunits units\" of frequency, to get energy we need to multiply by $\\hbar$, and then we convert to eV."
      ]
    },
    {
      "cell_type": "code",
      "execution_count": null,
      "id": "6305bdd5-c98f-4bcd-b779-81bf81b5504b",
      "metadata": {},
      "outputs": [],
      "source": [
        "ws, P = np.loadtxt(\"Purcell_gap.dat\", unpack=True)\n",
        "dw = ws[1] - ws[0]\n",
        "J0 = free_space_Jω(ws * nu.eV, nu.e * nu.nm)\n",
        "Jw = nu.ħ * J0 * P / nu.eV\n",
        "plt.plot(ws, Jw)\n",
        "plt.xlabel(\"ω (eV)\")\n",
        "plt.ylabel(\"J(ω) (eV)\");"
      ]
    },
    {
      "cell_type": "markdown",
      "id": "bf5dcad4-2483-41d3-b23c-47cc69b7e8c2",
      "metadata": {},
      "source": [
        "# Use find_peaks from scipy.signal to get starting guesses\n",
        "The starting guess for $J(\\omega)$ is a sum of Lorentzians, get their properties from the `find_peaks` function\n",
        "The normalized Lorentzians in the spectral density have the form $L(\\omega) = \\frac{g_n^2}{\\pi} \\frac{\\kappa_n/2}{(\\omega-\\omega_n)^2 + \\kappa_n^2/4}$, and the values at the peak positions $J_n = J(\\omega_n)$ are thus related to $g_n$ as $J_n = L(\\omega_n) = \\frac{2 g_n^2}{\\pi \\kappa_n}$"
      ]
    },
    {
      "cell_type": "code",
      "execution_count": null,
      "id": "d89ba104-56d0-4fe1-a280-edba76ba7f20",
      "metadata": {},
      "outputs": [],
      "source": [
        "# find \"most\" peaks (with some minimum width and prominence\n",
        "peak_inds, peak_props = find_peaks(Jw, width=3, prominence=5e-4)\n",
        "\n",
        "# number of modes\n",
        "Nm = len(peak_inds)\n",
        "# we have 1 emitter\n",
        "Ne = 1\n",
        "\n",
        "print(f\"we use {Nm} modes in the fit\")\n",
        "\n",
        "# make fitter object (is actually an nlopt object, with some functions added by spectral_density_fit)\n",
        "# we set fitlog=True to fit the logarithm of the spectral density, not the spectral density itself\n",
        "# (this makes the fit more sensitive to small values)\n",
        "opt = spectral_density_fitter(ws, Jw, Nm, fitlog=True)\n",
        "\n",
        "# start fit with a diagonal Hamiltonian, with parameters taken from those found by find_peaks\n",
        "H = np.diag(ws[peak_inds])\n",
        "kappas = dw * peak_props[\"widths\"]\n",
        "gs = np.sqrt(np.pi * kappas * Jw[peak_inds] / 2).reshape(1, Nm)  # g has to be Ne x Nm array\n",
        "\n",
        "# \"ps\" is the 1d array of fit parameters, obtain it from initial guesses for H,κ,g\n",
        "ps = opt.Hκg_to_ps(H, kappas, gs)\n",
        "# evaluate the model spectral density with those parameters\n",
        "# .squeeze() because Jfun returns [Ne,Ne,Nω] array also for Ne=1, squeeze removes dimensions of size 1\n",
        "# (i.e., transforms Jmod.shape from [1,1,len(ω)] -> [len(ω)])\n",
        "Jmod = opt.Jfun(ws, ps).squeeze()\n",
        "\n",
        "plt.plot(ws, Jw, label=\"numerical\")\n",
        "plt.plot(ws[peak_inds], Jw[peak_inds], \"o\", label=\"identified peaks\")\n",
        "plt.plot(ws, Jmod, label=\"guessed model\")\n",
        "plt.xlabel(\"ω (eV)\")\n",
        "plt.ylabel(\"J(ω) (eV)\")\n",
        "plt.yscale(\"log\")\n",
        "plt.legend();"
      ]
    },
    {
      "cell_type": "markdown",
      "id": "40090a01-4039-4311-bdc3-b46689ca4cf0",
      "metadata": {},
      "source": [
        "# do the optimization\n",
        "Note that for this example, we did not actually use enough modes and so the fit is not great. Usually one would take the guesses from `find_peaks` and then refine them manually (i.e., already include more than one mode for the broad non-Lorentzian pseudomode peak at 2.5 eV, etc)."
      ]
    },
    {
      "cell_type": "code",
      "execution_count": null,
      "id": "30b374bd-6fdd-4b1f-b89c-451b05b8b12a",
      "metadata": {},
      "outputs": [],
      "source": [
        "# set the optimization tolerance\n",
        "opt.set_ftol_rel(1e-6)\n",
        "ps = opt.optimize(ps)\n",
        "Jmod = opt.Jfun(ws, ps).squeeze()"
      ]
    },
    {
      "cell_type": "code",
      "execution_count": null,
      "id": "d2555e2c-28d8-4475-bf11-c861fcb3708d",
      "metadata": {},
      "outputs": [],
      "source": [
        "plt.plot(ws, Jw, label=\"numerical\")\n",
        "plt.plot(ws, Jmod, label=\"fitted model\")\n",
        "plt.xlabel(\"ω (eV)\")\n",
        "plt.ylabel(\"J(ω) (eV)\")\n",
        "plt.yscale(\"log\")\n",
        "plt.legend();"
      ]
    },
    {
      "cell_type": "markdown",
      "id": "5f52af01-451c-428f-b920-59bcc4bf319f",
      "metadata": {},
      "source": [
        "# Implement few-mode model"
      ]
    },
    {
      "cell_type": "markdown",
      "id": "d4892a5a-f2b2-447c-ae63-d2b6ea9f3d20",
      "metadata": {},
      "source": [
        "We want to treat the system with $N_m$ cavity modes and $N_e$ emitters with Hamiltonian (within RWA)\n",
        "\\begin{equation}\n",
        "H = \\sum_{ij} \\omega_{ij} a_i^\\dagger a_j + \\sum_\\alpha \\omega_{e,\\alpha} \\sigma_\\alpha^\\dagger \\sigma_\\alpha + \\sum_{\\alpha,i} g_{\\alpha i} (\\sigma_\\alpha^\\dagger a_i + \\sigma_\\alpha a_i^\\dagger)\n",
        "\\end{equation}\n",
        "and Lindblad decay terms $\\kappa_i \\mathcal{L}_{a_i}[\\rho]$.\n",
        "\n",
        "Note that since we didn't use the correct units for $J$ above, our $g$'s also have the wrong ones. So here at the latest we should multiply by the square root of the correct prefactor. We invent a number here for the example..."
      ]
    },
    {
      "cell_type": "code",
      "execution_count": null,
      "id": "b5abdb59-a057-4c6b-85ce-6e9dc251abe9",
      "metadata": {},
      "outputs": [],
      "source": [
        "from qutip import *"
      ]
    },
    {
      "cell_type": "code",
      "execution_count": null,
      "id": "8937c1a5-f46d-494c-98be-5401461273f5",
      "metadata": {},
      "outputs": [],
      "source": [
        "# spectral_density_fitter uses jax, convert to normal numpy arrays for further use\n",
        "H, kappas, gs = map(np.array, opt.ps_to_Hκg(ps))\n",
        "display(Qobj(H))\n",
        "display(Qobj(kappas.reshape(1, -1)))\n",
        "display(Qobj(gs))"
      ]
    },
    {
      "cell_type": "code",
      "execution_count": null,
      "id": "48de31dc-8bed-408b-ba39-61dcd00d752c",
      "metadata": {},
      "outputs": [],
      "source": [
        "# emitter frequency\n",
        "we = 1.2"
      ]
    },
    {
      "cell_type": "code",
      "execution_count": null,
      "id": "ab67e237-e5ee-4361-81eb-07ec48051792",
      "metadata": {},
      "outputs": [],
      "source": [
        "# maximum number of excitations\n",
        "Nexc = 1\n",
        "# dimensions of the quantum operators.\n",
        "# Since the only restriction we want is in the total number of excitations,\n",
        "# we allow each individual photonic mode to have up to Nexc+1 states (i.e., 0 to Nexc photons),\n",
        "# while the emitters are two-level systems\n",
        "part_dims = [Nexc + 1] * Nm + [2] * Ne\n",
        "print(\"Dimensions of quantum operators:\", part_dims)\n",
        "print(\"Full Hilbert space would have size\", np.prod(part_dims))\n",
        "\n",
        "# this creates a list of annihilation operators for subsystems with dimensions given by part_dims,\n",
        "# but only allowing up to Nexc excitations in the system\n",
        "ann_ops = enr_destroy(part_dims, Nexc)\n",
        "# the first Nm operators are the photon mode operators a_i\n",
        "aops = ann_ops[:Nm]\n",
        "# the rest are the Ne emitter operators σ_α\n",
        "σs = ann_ops[Nm:]\n",
        "assert len(σs) == Ne\n",
        "print(\"excitation-number restricted Hilbert space for up to\", Nexc, \"excitations has size\", σs[0].shape[0])"
      ]
    },
    {
      "cell_type": "code",
      "execution_count": null,
      "id": "fc1627a3-7332-4764-871a-fea8f564b95f",
      "metadata": {},
      "outputs": [],
      "source": [
        "# since A and Ad are arrays, we can use the matrix multiplication operator\n",
        "H = sum(H[i, j] * aops[i].dag() * aops[j] for i in range(Nm) for j in range(Nm)) + sum(we * σs[i].dag() * σs[i] for i in range(Ne))\n",
        "# very important: always use normal ordering in excitation-number restricted subspace (i.e., creation operators on the left)\n",
        "H += sum(gs[i, j] * (aops[j].dag() * σs[i] + σs[i].dag() * aops[j]) for i in range(Ne) for j in range(Nm))\n",
        "# annihilation operators\n",
        "c_ops = [np.sqrt(ka) * a for (ka, a) in zip(kappas, aops)]\n",
        "# calculate, e.g., expected populations of all subsystems\n",
        "e_ops = [x.dag() * x for x in ann_ops]"
      ]
    },
    {
      "cell_type": "code",
      "execution_count": null,
      "id": "91d71735-1086-4a3e-8f3c-b85b3289febc",
      "metadata": {},
      "outputs": [],
      "source": [
        "# start with the emitter excited\n",
        "ψ0 = enr_fock(part_dims, Nexc, np.r_[np.zeros(Nm), 1])\n",
        "\n",
        "# tsfs is time in femtoseconds, for QuTiP we should use time units of ħ/eV (since ħ=1 and our energy units are eV)\n",
        "tsfs = np.linspace(0, 50, 201)\n",
        "# tsfs*nu.fs converts to \"internal\" numericalunits time unit, dividing by nu.ħ/nu.eV converts that to ħ/eV\n",
        "ts = tsfs * nu.fs / (nu.ħ / nu.eV)"
      ]
    },
    {
      "cell_type": "code",
      "execution_count": null,
      "id": "a893846a-1c2b-4e00-9590-d9b637546204",
      "metadata": {},
      "outputs": [],
      "source": [
        "sol = mesolve(H, ψ0, ts, c_ops, e_ops=e_ops)"
      ]
    },
    {
      "cell_type": "code",
      "execution_count": null,
      "id": "070485e9-203b-4666-bb56-8097a253cfce",
      "metadata": {},
      "outputs": [],
      "source": [
        "plt.plot(tsfs, sol.expect[-1], label=\"emitter\")\n",
        "for ii in range(Nm):\n",
        "    plt.plot(tsfs, sol.expect[ii], label=f\"photon mode {ii + 1}\")\n",
        "plt.xlabel(\"t (fs)\")\n",
        "plt.ylabel(\"population\")\n",
        "plt.legend(ncol=2);"
      ]
    }
  ],
  "metadata": {
    "kernelspec": {
      "display_name": "Python 3 (ipykernel)",
      "language": "python",
      "name": "python3"
    },
    "language_info": {
      "codemirror_mode": {
        "name": "ipython",
        "version": 3
      },
      "file_extension": ".py",
      "mimetype": "text/x-python",
      "name": "python",
      "nbconvert_exporter": "python",
      "pygments_lexer": "ipython3",
      "version": "3.11.5"
    }
  },
  "nbformat": 4,
  "nbformat_minor": 5
}
