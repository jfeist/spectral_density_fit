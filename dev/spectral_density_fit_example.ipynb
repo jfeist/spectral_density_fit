{
  "cells": [
    {
      "cell_type": "code",
      "execution_count": null,
      "id": "acd9cbdb",
      "metadata": {},
      "outputs": [],
      "source": [
        "import matplotlib.pyplot as plt\n",
        "import numpy as np\n",
        "from qutip import *\n",
        "\n",
        "%matplotlib inline"
      ]
    },
    {
      "cell_type": "code",
      "execution_count": null,
      "id": "941e0e95",
      "metadata": {},
      "outputs": [],
      "source": [
        "plt.style.use(\"jf_cb\")"
      ]
    },
    {
      "cell_type": "code",
      "execution_count": null,
      "id": "a4300d9b",
      "metadata": {},
      "outputs": [],
      "source": [
        "import numericalunits as nu\n",
        "\n",
        "nu.Debye = 0.020819434 * nu.e * nu.nm"
      ]
    },
    {
      "cell_type": "code",
      "execution_count": null,
      "id": "4e320ed3",
      "metadata": {},
      "outputs": [],
      "source": [
        "import sys\n",
        "\n",
        "sys.path.append(\"/share/apps/sphere_greens_function\")\n",
        "from calc_sphere_gf import calc_sphere_gf, DrudeAgDelga"
      ]
    },
    {
      "cell_type": "code",
      "execution_count": null,
      "id": "19caa80e",
      "metadata": {},
      "outputs": [],
      "source": [
        "# sys.path.append('..')\n",
        "from spectral_density_fit import spectral_density_fitter"
      ]
    },
    {
      "cell_type": "markdown",
      "id": "c6c421c6",
      "metadata": {},
      "source": [
        "# Spectral density"
      ]
    },
    {
      "cell_type": "code",
      "execution_count": null,
      "id": "be87f7af",
      "metadata": {},
      "outputs": [],
      "source": [
        "def Jωprefac(ω, μ):\n",
        "    \"input should be in numericalunits units\"\n",
        "    return ω**2 * μ**2 / (np.pi * nu.hbar * nu.eps0 * nu.c0**2)"
      ]
    },
    {
      "cell_type": "code",
      "execution_count": null,
      "id": "9e1f1a9d",
      "metadata": {},
      "outputs": [],
      "source": [
        "def sphere_Jω(R, ϵsphere, ϵbg, ħω, rsource, μ, nmax=70, **kwargs):\n",
        "    \"input should be in numericalunits units\"\n",
        "    GF = calc_sphere_gf(R / nu.nm, ϵbg, ħω / nu.eV, rsource / nu.nm, rsource / nu.nm, nmax=nmax, epssphere=ϵsphere, **kwargs)\n",
        "    pref = Jωprefac(ħω / nu.ħ, μ)\n",
        "    return pref * GF.imag.squeeze() / nu.m"
      ]
    },
    {
      "cell_type": "code",
      "execution_count": null,
      "id": "8aa9b6f1",
      "metadata": {},
      "outputs": [],
      "source": [
        "ωes = np.r_[3.3]  # eV\n",
        "# use emitter with 15 Debye (quite large)\n",
        "μes = np.r_[15] * nu.Debye  # numericalunits units"
      ]
    },
    {
      "cell_type": "code",
      "execution_count": null,
      "id": "17fc5486",
      "metadata": {},
      "outputs": [],
      "source": [
        "R = 5.0  # nm\n",
        "epsbg = 2.1\n",
        "epssphere = DrudeAgDelga  # Drude model for silver from Alex Delga PRL\n",
        "rsource = np.array([[0, 0, -R - 1.0]])  # nm\n",
        "ω = np.linspace(0.5, 7.5, 701)  # eV\n",
        "Jω = sphere_Jω(R * nu.nm, epssphere, epsbg, ω * nu.eV, rsource * nu.nm, μes, nmax=50)\n",
        "Jω = nu.hbar * Jω[2, 2, :] / nu.eV  # now in eV, and zz component\n",
        "\n",
        "plt.plot(ω, Jω)\n",
        "for ωe in ωes:\n",
        "    plt.axvline(ωe, ls=\"--\", color=\"C1\")\n",
        "plt.xlabel(\"ω (eV)\")\n",
        "plt.ylabel(\"J(ω) (eV)\")\n",
        "plt.yscale(\"log\")\n",
        "plt.tight_layout(pad=0.5);"
      ]
    },
    {
      "cell_type": "markdown",
      "id": "f402967b",
      "metadata": {},
      "source": [
        "# Fit spectral density to few-mode model"
      ]
    },
    {
      "cell_type": "code",
      "execution_count": null,
      "id": "df15c2a7",
      "metadata": {},
      "outputs": [],
      "source": [
        "# try to fit with 4 modes\n",
        "Nm = 4\n",
        "# we have 1 emitter\n",
        "Ne = 1\n",
        "\n",
        "H = np.diag([3.05, 3.2, 3.4, 3.45])\n",
        "κ = np.r_[0.1, 0.1, 0.12, 0.13]\n",
        "g = np.r_[0.03, 0.04, 0.1, 0.1].reshape(1, Nm)  # g has to be Ne x Nm array\n",
        "\n",
        "# make fitter object (is actually an nlopt object, with some functions added by spectral_density_fit)\n",
        "opt = spectral_density_fitter(ω, Jω, Nm)\n",
        "# get the 1d parameter array ps from initial guesses for H,κ,g\n",
        "ps = opt.Hκg_to_ps(H, κ, g)\n",
        "# evaluate the model spectral density with those parameters\n",
        "# .squeeze() because Jfun returns [Ne,Ne,Nω] array also for Ne=1, squeeze removes dimensions of size 1\n",
        "# (i.e., transforms Jmod.shape from [1,1,len(ω)] -> [len(ω)])\n",
        "Jmod = opt.Jfun(ω, ps).squeeze()\n",
        "\n",
        "plt.plot(ω, Jω, label=\"numerical\")\n",
        "plt.plot(ω, Jmod, label=\"guessed model\")\n",
        "plt.xlabel(\"ω (eV)\")\n",
        "plt.ylabel(\"J(ω) (eV)\")\n",
        "plt.yscale(\"log\")\n",
        "plt.legend()\n",
        "plt.tight_layout(pad=0.5);"
      ]
    },
    {
      "cell_type": "code",
      "execution_count": null,
      "id": "f16fd66e-6ae3-4d0a-a73c-9046139e8161",
      "metadata": {},
      "outputs": [],
      "source": [
        "ps = opt.optimize(ps)\n",
        "Jmod = opt.Jfun(ω, ps).squeeze()\n",
        "\n",
        "plt.plot(ω, Jω, label=\"numerical\")\n",
        "plt.plot(ω, Jmod, label=\"fitted model\")\n",
        "plt.xlabel(\"ω (eV)\")\n",
        "plt.ylabel(\"J(ω) (eV)\")\n",
        "plt.yscale(\"log\")\n",
        "plt.legend()\n",
        "plt.tight_layout(pad=0.5);"
      ]
    },
    {
      "cell_type": "markdown",
      "id": "748177ab",
      "metadata": {},
      "source": [
        "# Solve dynamics"
      ]
    },
    {
      "cell_type": "code",
      "execution_count": null,
      "id": "1526347f",
      "metadata": {},
      "outputs": [],
      "source": [
        "tsfs = np.linspace(0, 50, 201)\n",
        "# since we have ħ=1 and energy units of eV, time units in mesolve are ħ/eV (~0.658 fs)\n",
        "# tsfs*nu.fs converts to \"internal\" numericalunits time unit, dividing by nu.ħ/nu.eV converts that to ħ/eV\n",
        "ts = tsfs * nu.fs / (nu.ħ / nu.eV)"
      ]
    },
    {
      "cell_type": "markdown",
      "id": "f75a2856",
      "metadata": {},
      "source": [
        "## With direct discretization"
      ]
    },
    {
      "cell_type": "code",
      "execution_count": null,
      "id": "218f508c",
      "metadata": {},
      "outputs": [],
      "source": [
        "dω = ω[1] - ω[0]\n",
        "gdisc = np.sqrt(Jω * dω).reshape(1, -1)\n",
        "# single-excitation subspace\n",
        "H_disc = np.block([[np.diag(ω), gdisc.T], [gdisc, np.diag(ωes)]])\n",
        "ψ0_disc = np.r_[np.zeros_like(ω), 1.0]"
      ]
    },
    {
      "cell_type": "code",
      "execution_count": null,
      "id": "96b161f2",
      "metadata": {},
      "outputs": [],
      "source": [
        "# using sesolve from qutip is really quite inefficient here, but doesn't matter in this case\n",
        "sol_disc = sesolve(Qobj(H_disc), Qobj(ψ0_disc), ts)"
      ]
    },
    {
      "cell_type": "markdown",
      "id": "62589cde",
      "metadata": {},
      "source": [
        "## With few-mode model"
      ]
    },
    {
      "cell_type": "markdown",
      "id": "ranking-group",
      "metadata": {},
      "source": [
        "We want to treat the system with $N_m$ cavity modes and $N_e$ emitters with Hamiltonian (within RWA)\n",
        "\\begin{equation}\n",
        "H = \\sum_{ij} \\omega_{ij} a_i^\\dagger a_j + \\sum_\\alpha \\omega_{e,\\alpha} \\sigma_\\alpha^\\dagger \\sigma_\\alpha + \\sum_{\\alpha,i} g_{\\alpha i} (\\sigma_\\alpha^\\dagger a_i + \\sigma_\\alpha a_i^\\dagger)\n",
        "\\end{equation}\n",
        "and Lindblad decay terms $\\kappa_i \\mathcal{L}_{a_i}[\\rho]$.\n",
        "\n",
        "The Hamiltonian can be written compactly by defining a vector $\\vec{A} = [a_1,a_2,\\ldots,a_{N_m},\\sigma_1,\\ldots,\\sigma_{N_e}]^T$ and a block matrix\n",
        "\\begin{equation}\n",
        "H_{sys} = \\begin{pmatrix} \\omega & g^T\\\\g & \\mathrm{diag}(\\omega_e) \\end{pmatrix}\n",
        "\\end{equation}\n",
        "We can then write $H = \\vec{A}^\\dagger H_{sys} \\vec{A}$. This is exactly how we implement the system below"
      ]
    },
    {
      "cell_type": "code",
      "execution_count": null,
      "id": "196eddd1",
      "metadata": {},
      "outputs": [],
      "source": [
        "# spectral_density_fitter uses jax, convert to normal numpy arrays for further use\n",
        "ωij, κs, gαi = map(np.array, opt.ps_to_Hκg(ps))\n",
        "display(Qobj(ωij))\n",
        "display(Qobj(κs.reshape(1, -1)))\n",
        "display(Qobj(gαi))"
      ]
    },
    {
      "cell_type": "code",
      "execution_count": null,
      "id": "pleasant-tiger",
      "metadata": {},
      "outputs": [],
      "source": [
        "# make the H_sys matrix\n",
        "Hsys = np.block([[ωij, gαi.T], [gαi, np.diag(ωes)]])\n",
        "assert Qobj(Hsys).isherm"
      ]
    },
    {
      "cell_type": "code",
      "execution_count": null,
      "id": "incorrect-master",
      "metadata": {},
      "outputs": [],
      "source": [
        "# maximum number of excitations\n",
        "Nexc = 1\n",
        "# dimensions of the quantum operators.\n",
        "# Since the only restriction we want is in the total number of excitations,\n",
        "# we allow each individual photonic mode to have up to Nexc+1 states (i.e., 0 to Nexc photons),\n",
        "# while the emitters are two-level systems\n",
        "part_dims = [Nexc + 1] * Nm + [2] * Ne\n",
        "print(\"Dimensions of quantum operators:\", part_dims)\n",
        "print(\"Full Hilbert space would have size\", np.prod(part_dims))\n",
        "\n",
        "# this creates a list of annihilation operators for subsystems with dimensions given by part_dims,\n",
        "# but only allowing up to Nexc excitations in the system\n",
        "ann_ops = enr_destroy(part_dims, Nexc)\n",
        "# the first Nm operators are the photon mode operators a_i\n",
        "aops = ann_ops[:Nm]\n",
        "# the rest are the Ne emitter operators σ_α\n",
        "σs = ann_ops[Nm:]\n",
        "assert len(σs) == Ne\n",
        "print(\"excitation-number restricted Hilbert space for up to\", Nexc, \"excitations has size\", σs[0].shape[0])"
      ]
    },
    {
      "cell_type": "code",
      "execution_count": null,
      "id": "82c4dcf1",
      "metadata": {},
      "outputs": [],
      "source": [
        "# Hamiltonian\n",
        "H = sum(Hsys[i, j] * ann_ops[i].dag() * ann_ops[j] for i in range(len(ann_ops)) for j in range(len(ann_ops)))\n",
        "# decay terms operators\n",
        "c_ops = [np.sqrt(ka) * a for (ka, a) in zip(κs, aops)]\n",
        "# calculate, e.g., expected populations of all subsystems\n",
        "e_ops = [x.dag() * x for x in ann_ops]"
      ]
    },
    {
      "cell_type": "code",
      "execution_count": null,
      "id": "honest-swimming",
      "metadata": {},
      "outputs": [],
      "source": [
        "# start with the emitter excited\n",
        "ψ0 = enr_fock(part_dims, Nexc, np.r_[np.zeros(Nm), 1])"
      ]
    },
    {
      "cell_type": "code",
      "execution_count": null,
      "id": "62a38330",
      "metadata": {},
      "outputs": [],
      "source": [
        "sol = mesolve(H, ψ0, ts, c_ops, e_ops=e_ops)"
      ]
    },
    {
      "cell_type": "code",
      "execution_count": null,
      "id": "d8332cb2",
      "metadata": {},
      "outputs": [],
      "source": [
        "plt.plot(tsfs, sol.expect[-1], label=\"emitter\")\n",
        "plt.plot(tsfs, [abs(ψ[-1].item()) ** 2 for ψ in sol_disc.states], \"--\", label=\"emitter (direct discretization)\")\n",
        "\n",
        "for ii in range(Nm):\n",
        "    plt.plot(tsfs, sol.expect[ii], label=f\"photon mode {ii + 1}\")\n",
        "plt.xlabel(\"t (fs)\")\n",
        "plt.ylabel(\"population\")\n",
        "plt.legend()\n",
        "plt.tight_layout(pad=0.5);"
      ]
    }
  ],
  "metadata": {
    "hide_input": false,
    "kernelspec": {
      "display_name": "Python 3 (ipykernel)",
      "language": "python",
      "name": "python3"
    },
    "language_info": {
      "codemirror_mode": {
        "name": "ipython",
        "version": 3
      },
      "file_extension": ".py",
      "mimetype": "text/x-python",
      "name": "python",
      "nbconvert_exporter": "python",
      "pygments_lexer": "ipython3",
      "version": "3.11.6"
    }
  },
  "nbformat": 4,
  "nbformat_minor": 5
}
